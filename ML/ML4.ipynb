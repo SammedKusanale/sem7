{
 "cells": [
  {
   "cell_type": "code",
   "execution_count": 6,
   "id": "1a0313a8",
   "metadata": {},
   "outputs": [],
   "source": [
    "#initializing parameters\n",
    "cur_x=2\n",
    "rate=0.01\n",
    "precision=0.000001\n",
    "previous_step_size=1\n",
    "max_iters=1000\n",
    "iters=0\n",
    "df=lambda x: 2*(x+3) #gradient f0r(x+3)^2"
   ]
  },
  {
   "cell_type": "code",
   "execution_count": 10,
   "id": "f8630521",
   "metadata": {},
   "outputs": [
    {
     "name": "stdout",
     "output_type": "stream",
     "text": [
      "Local Minima Occurs at : -2.999951128099859\n"
     ]
    }
   ],
   "source": [
    "#running loop for gradient descent\n",
    "while previous_step_size > precision and iters <max_iters:\n",
    "    prev_x=cur_x\n",
    "    cur_x-=rate*df(prev_x)\n",
    "    previous_step_size=abs(prev_x - cur_x)\n",
    "    iters +=1\n",
    "print(\"Local Minima Occurs at :\",cur_x)"
   ]
  },
  {
   "cell_type": "code",
   "execution_count": 8,
   "id": "de446cbc",
   "metadata": {},
   "outputs": [],
   "source": []
  },
  {
   "cell_type": "code",
   "execution_count": null,
   "id": "3a43e169",
   "metadata": {},
   "outputs": [],
   "source": []
  },
  {
   "cell_type": "code",
   "execution_count": null,
   "id": "37b57979",
   "metadata": {},
   "outputs": [],
   "source": []
  }
 ],
 "metadata": {
  "kernelspec": {
   "display_name": "Python 3 (ipykernel)",
   "language": "python",
   "name": "python3"
  },
  "language_info": {
   "codemirror_mode": {
    "name": "ipython",
    "version": 3
   },
   "file_extension": ".py",
   "mimetype": "text/x-python",
   "name": "python",
   "nbconvert_exporter": "python",
   "pygments_lexer": "ipython3",
   "version": "3.9.13"
  }
 },
 "nbformat": 4,
 "nbformat_minor": 5
}
