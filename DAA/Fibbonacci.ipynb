{
 "cells": [
  {
   "cell_type": "code",
   "execution_count": 4,
   "id": "9ed33757",
   "metadata": {},
   "outputs": [
    {
     "name": "stdout",
     "output_type": "stream",
     "text": [
      "enter number 8\n",
      "0 1 1 2 3 5 8 13 "
     ]
    }
   ],
   "source": [
    "#non recursive method\n",
    "num=int(input(\"enter number \"))\n",
    "n1,n2=0,1\n",
    "sum=0\n",
    "if num<=0:\n",
    "    print(\"enter no greater than 0\")\n",
    "else:\n",
    "    for i in range(0,num):\n",
    "        print(sum,end=\" \")\n",
    "        n1=n2\n",
    "        n2=sum\n",
    "        sum=n1+n2"
   ]
  },
  {
   "cell_type": "code",
   "execution_count": 8,
   "id": "ccf553a9",
   "metadata": {},
   "outputs": [
    {
     "name": "stdout",
     "output_type": "stream",
     "text": [
      "enter nuber8\n",
      "fibonnaci series is \n",
      "0 1 1 2 3 5 8 13 "
     ]
    }
   ],
   "source": [
    "#recursive method\n",
    "def fib(f):\n",
    "    if f<=1:\n",
    "        return f\n",
    "    else:\n",
    "        return fib(f-1)+fib(f-2)\n",
    "n=int(input(\"enter nuber\"))\n",
    "if n<=0:\n",
    "    print(\"enter a positive number\")\n",
    "else:\n",
    "    print(\"fibonnaci series is \")\n",
    "    for i in range(n):\n",
    "        print(fib(i), end=\" \")\n",
    "        \n",
    "    "
   ]
  },
  {
   "cell_type": "code",
   "execution_count": 10,
   "id": "fad64bfb",
   "metadata": {},
   "outputs": [
    {
     "name": "stdout",
     "output_type": "stream",
     "text": [
      "enter number8\n",
      "fibbonaci sequence is\n",
      "0 1 1 2 3 5 8 13 "
     ]
    }
   ],
   "source": [
    "def fib(f):\n",
    "    if f<=1:\n",
    "        return f\n",
    "    else:\n",
    "        return fib(f-1)+fib(f-2)\n",
    "n=int(input(\"enter number\"))\n",
    "if n<=0:\n",
    "    print(\"enter positive number\")\n",
    "else:\n",
    "    print(\"fibbonaci sequence is\")\n",
    "    for i in range(n):\n",
    "        print(fib(i),end=\" \")"
   ]
  },
  {
   "cell_type": "code",
   "execution_count": null,
   "id": "bdd709b1",
   "metadata": {},
   "outputs": [],
   "source": []
  }
 ],
 "metadata": {
  "kernelspec": {
   "display_name": "Python 3 (ipykernel)",
   "language": "python",
   "name": "python3"
  },
  "language_info": {
   "codemirror_mode": {
    "name": "ipython",
    "version": 3
   },
   "file_extension": ".py",
   "mimetype": "text/x-python",
   "name": "python",
   "nbconvert_exporter": "python",
   "pygments_lexer": "ipython3",
   "version": "3.9.13"
  }
 },
 "nbformat": 4,
 "nbformat_minor": 5
}
