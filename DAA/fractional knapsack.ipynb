{
 "cells": [
  {
   "cell_type": "code",
   "execution_count": 4,
   "id": "5fa6026b",
   "metadata": {},
   "outputs": [
    {
     "name": "stdout",
     "output_type": "stream",
     "text": [
      "220.0\n"
     ]
    }
   ],
   "source": [
    "class Item:\n",
    "    def __init__(self,value,weight):\n",
    "        self.value=value\n",
    "        self.weight=weight\n",
    "\n",
    "def fn(w,arr):\n",
    "    arr.sort(key=lambda x:(x.value/x.weight),reverse=True)\n",
    "    finalval=0.0\n",
    "    \n",
    "    for item in arr:\n",
    "        if item.weight<=w:\n",
    "            w-=item.weight\n",
    "            finalval+=item.value\n",
    "        else:\n",
    "            finalval+=item.value*w/item.weight\n",
    "            break\n",
    "    return finalval\n",
    "\n",
    "if __name__==\"__main__\":\n",
    "    w=50\n",
    "    arr=[Item(60,10),Item(100,20),Item(120,40)]\n",
    "    \n",
    "    abc=fn(w,arr)\n",
    "    print(abc)\n",
    "    "
   ]
  },
  {
   "cell_type": "code",
   "execution_count": 1,
   "id": "be648521",
   "metadata": {},
   "outputs": [
    {
     "name": "stdout",
     "output_type": "stream",
     "text": [
      "240.0\n"
     ]
    }
   ],
   "source": [
    "class Item:\n",
    "    def __init__(self,value,weight):\n",
    "        self.value=value\n",
    "        self.weight=weight\n",
    "        \n",
    "def fn(w,arr):\n",
    "    arr.sort(key=lambda x:(x.value/x.weight),reverse=True)\n",
    "    finalval=0.0\n",
    "    \n",
    "    for item in arr:\n",
    "        if item.weight<=w:\n",
    "            w-=item.weight\n",
    "            finalval+=item.value\n",
    "            \n",
    "        else:\n",
    "            finalval+=item.value*w/item.weight\n",
    "            break\n",
    "            \n",
    "    return finalval\n",
    "\n",
    "if __name__==\"__main__\":\n",
    "    w=50\n",
    "    arr=[Item(60,10),Item(100,20),Item(120,30)]\n",
    "    abc=fn(w,arr)\n",
    "    print(abc)"
   ]
  },
  {
   "cell_type": "code",
   "execution_count": null,
   "id": "7583948c",
   "metadata": {},
   "outputs": [],
   "source": []
  }
 ],
 "metadata": {
  "kernelspec": {
   "display_name": "Python 3 (ipykernel)",
   "language": "python",
   "name": "python3"
  },
  "language_info": {
   "codemirror_mode": {
    "name": "ipython",
    "version": 3
   },
   "file_extension": ".py",
   "mimetype": "text/x-python",
   "name": "python",
   "nbconvert_exporter": "python",
   "pygments_lexer": "ipython3",
   "version": "3.9.13"
  }
 },
 "nbformat": 4,
 "nbformat_minor": 5
}
