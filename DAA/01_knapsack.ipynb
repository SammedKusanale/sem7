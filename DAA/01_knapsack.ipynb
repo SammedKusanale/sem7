{
 "cells": [
  {
   "cell_type": "code",
   "execution_count": 5,
   "id": "db975c70",
   "metadata": {},
   "outputs": [
    {
     "name": "stdout",
     "output_type": "stream",
     "text": [
      "220\n"
     ]
    }
   ],
   "source": [
    "def knap(W,wt,val,n):\n",
    "    k=[[0 for x in range(W+1)] for x in range(n+1)]\n",
    "    \n",
    "    for i in range(n+1):\n",
    "        for w in range(W+1):\n",
    "            if i==0 or w==0:\n",
    "                k[i][w]=0\n",
    "                \n",
    "            elif wt[i-1]<=w:\n",
    "                k[i][w]=max(val[i-1]+k[i-1][w-wt[i-1]],k[i-1][w])\n",
    "                \n",
    "            else:\n",
    "                k[i][w]=k[i-1][w]\n",
    "                \n",
    "    return k[n][w]\n",
    "    \n",
    "#driver code\n",
    "W=50\n",
    "val=[60,100,120]\n",
    "wt=[10,20,30]\n",
    "n=len(val)\n",
    "print(knap(W,wt,val,n))"
   ]
  },
  {
   "cell_type": "code",
   "execution_count": 13,
   "id": "d4c20af4",
   "metadata": {},
   "outputs": [
    {
     "name": "stdout",
     "output_type": "stream",
     "text": [
      "220\n"
     ]
    }
   ],
   "source": [
    "def knap(W,wt,val,n):\n",
    "    k=[[0 for x in range(W+1)]for x in range(n+1)]\n",
    "    \n",
    "    for i in range(n+1):\n",
    "        for w in range(W+1):\n",
    "            if i==0 or w==0:\n",
    "                k[i][w]=0\n",
    "                \n",
    "            elif wt[i-1]<=w:\n",
    "                    k[i][w]=max(val[i-1]+k[i-1][w-wt[i-1]],k[i-1][w])\n",
    "                    \n",
    "            else:\n",
    "                    k[i][w]=k[i-1][w]\n",
    "                    \n",
    "                    \n",
    "    return k[n][w]\n",
    "                    \n",
    "val=[60,100,120]\n",
    "wt=[10,20,30]\n",
    "W=50\n",
    "n=len(val)\n",
    "print(knap(W,wt,val,n))\n",
    "        "
   ]
  },
  {
   "cell_type": "code",
   "execution_count": null,
   "id": "fd67d0e5",
   "metadata": {},
   "outputs": [],
   "source": []
  }
 ],
 "metadata": {
  "kernelspec": {
   "display_name": "Python 3 (ipykernel)",
   "language": "python",
   "name": "python3"
  },
  "language_info": {
   "codemirror_mode": {
    "name": "ipython",
    "version": 3
   },
   "file_extension": ".py",
   "mimetype": "text/x-python",
   "name": "python",
   "nbconvert_exporter": "python",
   "pygments_lexer": "ipython3",
   "version": "3.9.13"
  }
 },
 "nbformat": 4,
 "nbformat_minor": 5
}
